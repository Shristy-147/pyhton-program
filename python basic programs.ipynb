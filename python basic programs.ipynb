{
 "cells": [
  {
   "cell_type": "code",
   "execution_count": 1,
   "id": "periodic-breakfast",
   "metadata": {},
   "outputs": [
    {
     "name": "stdout",
     "output_type": "stream",
     "text": [
      "enter the number23\n",
      "enter the number34\n",
      "the sum of 23 and 34 is 57\n"
     ]
    }
   ],
   "source": [
    "#addition of two number\n",
    "\n",
    "n1=int(input(\"enter the number\"))\n",
    "n2=int(input(\"enter the number\"))\n",
    "\n",
    "sum=n1+n2\n",
    "print('the sum of {0} and {1} is {2}' .format(n1,n2,sum))"
   ]
  },
  {
   "cell_type": "code",
   "execution_count": 2,
   "id": "intended-couple",
   "metadata": {},
   "outputs": [
    {
     "name": "stdout",
     "output_type": "stream",
     "text": [
      "1.7320508075688772\n"
     ]
    }
   ],
   "source": [
    "#square root of number\n",
    "\n",
    "import math as m\n",
    "print(m.sqrt(3))"
   ]
  },
  {
   "cell_type": "code",
   "execution_count": 3,
   "id": "japanese-retirement",
   "metadata": {},
   "outputs": [
    {
     "name": "stdout",
     "output_type": "stream",
     "text": [
      "enter the number45\n",
      "it is positive number\n"
     ]
    }
   ],
   "source": [
    "#program to check whether it is pos,neg,or zero\n",
    "\n",
    "num=int(input(\"enter the number\"))\n",
    "if num>0 :\n",
    "  print(\"it is positive number\")\n",
    "elif num<0 :\n",
    "  print(\"it is negative number\")\n",
    "else:\n",
    "  print(\"it is zero\")"
   ]
  },
  {
   "cell_type": "code",
   "execution_count": 4,
   "id": "willing-material",
   "metadata": {},
   "outputs": [
    {
     "name": "stdout",
     "output_type": "stream",
     "text": [
      "it is a odd number\n"
     ]
    }
   ],
   "source": [
    "#to check whether the number is odd or even\n",
    "\n",
    "if num%2==0:\n",
    "    print(\"it is a even number\")\n",
    "else:\n",
    "    print(\"it is a odd number\")"
   ]
  },
  {
   "cell_type": "code",
   "execution_count": 5,
   "id": "wound-deadline",
   "metadata": {},
   "outputs": [
    {
     "name": "stdout",
     "output_type": "stream",
     "text": [
      "12 x 1 = 12\n",
      "12 x 2 = 24\n",
      "12 x 3 = 36\n",
      "12 x 4 = 48\n",
      "12 x 5 = 60\n",
      "12 x 6 = 72\n",
      "12 x 7 = 84\n",
      "12 x 8 = 96\n",
      "12 x 9 = 108\n",
      "12 x 10 = 120\n"
     ]
    }
   ],
   "source": [
    "#multiplicaion of table\n",
    "\n",
    "number=12\n",
    "for i in range(1,11):\n",
    "    print(number,\"x\",i,\"=\",number*i)"
   ]
  },
  {
   "cell_type": "code",
   "execution_count": 6,
   "id": "comparable-recycling",
   "metadata": {},
   "outputs": [
    {
     "name": "stdout",
     "output_type": "stream",
     "text": [
      "The sum is 136\n"
     ]
    }
   ],
   "source": [
    "# Sum of natural numbers up to num\n",
    "\n",
    "num = 16\n",
    "\n",
    "if num < 0:\n",
    "   print(\"Enter a positive number\")\n",
    "else:\n",
    "   sum = 0\n",
    "   # use while loop to iterate until zero\n",
    "   while(num > 0):\n",
    "       sum += num\n",
    "       num -= 1\n",
    "   print(\"The sum is\", sum)"
   ]
  },
  {
   "cell_type": "code",
   "execution_count": 7,
   "id": "aggressive-affairs",
   "metadata": {},
   "outputs": [
    {
     "name": "stdout",
     "output_type": "stream",
     "text": [
      "the ascii value  d is 100\n",
      "A\n"
     ]
    }
   ],
   "source": [
    "#to check ascii value\n",
    "c='d'\n",
    "print(\"the ascii value \",c,\"is\",ord(c))\n",
    "\n",
    "print(chr(65))"
   ]
  },
  {
   "cell_type": "code",
   "execution_count": 8,
   "id": "emotional-lighter",
   "metadata": {},
   "outputs": [
    {
     "name": "stdout",
     "output_type": "stream",
     "text": [
      "The string is a palindrome.\n"
     ]
    }
   ],
   "source": [
    "# Program to check if a string is palindrome or not\n",
    "\n",
    "my_str = 'aIbohPhoBiA'\n",
    "\n",
    "# make it suitable for caseless comparison\n",
    "my_str = my_str.casefold()\n",
    "\n",
    "# reverse the string\n",
    "rev_str = reversed(my_str)\n",
    "\n",
    "# check if the string is equal to its reverse\n",
    "if list(my_str) == list(rev_str):\n",
    "   print(\"The string is a palindrome.\")\n",
    "else:\n",
    "   print(\"The string is not a palindrome.\")"
   ]
  },
  {
   "cell_type": "code",
   "execution_count": 9,
   "id": "graduate-profession",
   "metadata": {},
   "outputs": [
    {
     "name": "stdout",
     "output_type": "stream",
     "text": [
      "Hello he said and went\n"
     ]
    }
   ],
   "source": [
    "# Program to remove punctuation\n",
    "punctuations = '''!()-[]{};:'\"\\,<>./?@#$%^&*_~'''\n",
    "\n",
    "my_str = \"Hello!!!, he said ---and went.\"\n",
    "\n",
    "# To take input from the user\n",
    "# my_str = input(\"Enter a string: \")\n",
    "\n",
    "# remove punctuation from the string\n",
    "no_punct = \"\"\n",
    "for char in my_str:\n",
    "   if char not in punctuations:\n",
    "       no_punct = no_punct + char\n",
    "\n",
    "# display the unpunctuated string\n",
    "print(no_punct)"
   ]
  },
  {
   "cell_type": "code",
   "execution_count": 10,
   "id": "controversial-tuition",
   "metadata": {},
   "outputs": [
    {
     "name": "stdout",
     "output_type": "stream",
     "text": [
      "{2: 'b', 4: 'd', 1: 'a'}\n",
      "The list is empty\n"
     ]
    }
   ],
   "source": [
    "#to merge two dictionary\n",
    "\n",
    "dict_1 = {1: 'a', 2: 'b'}\n",
    "dict_2 = {2: 'c', 4: 'd'}\n",
    "\n",
    "dict_3 = dict_2.copy()\n",
    "dict_3.update(dict_1)\n",
    "\n",
    "print(dict_3)\n",
    "\n",
    "\n",
    "#list is empty or not\n",
    "\n",
    "my_list = []\n",
    "if my_list == []:\n",
    "    print(\"The list is empty\")"
   ]
  },
  {
   "cell_type": "code",
   "execution_count": 11,
   "id": "conceptual-holiday",
   "metadata": {},
   "outputs": [
    {
     "name": "stdout",
     "output_type": "stream",
     "text": [
      "e\n",
      "c\n",
      "3\n",
      "{1: 'python', 2: 'c', 3: 'c++'}\n"
     ]
    }
   ],
   "source": [
    "my_list = ['a', 'b', 'c', 'd', 'e']\n",
    "\n",
    "# print the last element\n",
    "print(my_list[-1])\n",
    "\n",
    "\n",
    "#to take random selection\n",
    "\n",
    "import random\n",
    "\n",
    "my_list = [1, 'a', 32, 'c', 'd', 31]\n",
    "print(random.choice(my_list))\n",
    "\n",
    "\n",
    "\n",
    "#to count\n",
    "\n",
    "freq = ['a', 1, 'a', 4, 3, 2, 'a'].count('a')\n",
    "print(freq)\n",
    "\n",
    "\n",
    "#for coverting 2list to dictionary\n",
    "\n",
    "index = [1, 2, 3]\n",
    "languages = ['python', 'c', 'c++']\n",
    "\n",
    "dictionary = dict(zip(index, languages))\n",
    "print(dictionary)"
   ]
  },
  {
   "cell_type": "code",
   "execution_count": 12,
   "id": "naval-silicon",
   "metadata": {},
   "outputs": [
    {
     "name": "stdout",
     "output_type": "stream",
     "text": [
      " factorial is: 120\n",
      "factorial 120\n"
     ]
    }
   ],
   "source": [
    "#by using looping statement\n",
    "\n",
    "num= 5\n",
    "fact=1\n",
    "if num<0:\n",
    "    print(\"it's factorial doesnot exist\")\n",
    "elif num==1:\n",
    "    print(\" Factorial wil be :\",num)\n",
    "else:\n",
    "    for i in range(1,num+1):\n",
    "        fact= fact*i\n",
    "    print(\" factorial is:\", fact)\n",
    "\n",
    "\n",
    "#by using recursive function\n",
    "\n",
    "def factorial(num):\n",
    "##    if (num==0 or num==1):\n",
    "##        return 1\n",
    "##    else:\n",
    "##        return num*factorial(num-1)\n",
    "  return 1 if (num==1 or num==0) else num*factorial(num-1)\n",
    "num=5\n",
    "print(\"factorial\",factorial(num))"
   ]
  },
  {
   "cell_type": "code",
   "execution_count": 13,
   "id": "sweet-record",
   "metadata": {},
   "outputs": [
    {
     "name": "stdout",
     "output_type": "stream",
     "text": [
      "[1, 4, 5, 7, 8]\n",
      "length of the list 5\n",
      "5\n"
     ]
    }
   ],
   "source": [
    "#length of the list\n",
    "#1st method \n",
    "mylist=[1,4,5,7,8]\n",
    "print(mylist)\n",
    "\n",
    "count=0\n",
    "for i in mylist:\n",
    "    count=count+1\n",
    "print(\"length of the list\",count)\n",
    "\n",
    "#second method\n",
    "print(len(mylist))"
   ]
  },
  {
   "cell_type": "code",
   "execution_count": 14,
   "id": "theoretical-minute",
   "metadata": {},
   "outputs": [
    {
     "name": "stdout",
     "output_type": "stream",
     "text": [
      "enter the first number45\n",
      "enter the second number87\n",
      "Before swapping number are 45 and 87\n",
      "After swapping number are 87 and 45\n",
      "enter the first number65\n",
      "enter the second number88\n",
      "Before swapping number are 65 and 88\n",
      "After swapping number are 88 and 65\n"
     ]
    }
   ],
   "source": [
    "num1=int(input(\"enter the first number\"))\n",
    "num2=int(input(\"enter the second number\"))\n",
    "\n",
    "#swapping of two number by using third number\n",
    "\n",
    "print(\"Before swapping number are {0} and {1}\".format(num1,num2))\n",
    "\n",
    "temp=num1\n",
    "num1=num2\n",
    "num2=temp\n",
    "\n",
    "print(\"After swapping number are {0} and {1}\".format(num1,num2))\n",
    "\n",
    "#swapping of two number\n",
    "\n",
    "\n",
    "num3=int(input(\"enter the first number\"))\n",
    "num4=int(input(\"enter the second number\"))\n",
    "\n",
    "print(\"Before swapping number are {0} and {1}\".format(num3,num4))\n",
    "\n",
    "num3, num4= num4 , num3\n",
    "\n",
    "print(\"After swapping number are {0} and {1}\".format(num3,num4))"
   ]
  },
  {
   "cell_type": "code",
   "execution_count": 15,
   "id": "attempted-arthritis",
   "metadata": {},
   "outputs": [
    {
     "name": "stdout",
     "output_type": "stream",
     "text": [
      " enter the number:45\n",
      "number is not prime\n"
     ]
    }
   ],
   "source": [
    "#prime number\n",
    "\n",
    "num= int(input(\" enter the number:\"))\n",
    "count=0\n",
    "\n",
    "if num>1:\n",
    "    for i in range(1,num+1):\n",
    "        if (num%i) ==0:\n",
    "            count=count+1\n",
    "    if count == 2:\n",
    "        print(\"number is prime\")\n",
    "    else:\n",
    "        print(\"number is not prime\")"
   ]
  },
  {
   "cell_type": "code",
   "execution_count": 18,
   "id": "fallen-representation",
   "metadata": {},
   "outputs": [
    {
     "name": "stdout",
     "output_type": "stream",
     "text": [
      "10.20.30\n",
      "10,20,30\n",
      "hii\n",
      "hiihii\n",
      "['welcome', 'to', 'the', 'jungle']\n",
      "w\n",
      "e\n",
      "l\n",
      "c\n",
      "o\n",
      "m\n",
      "e\n",
      " \n",
      "h\n",
      "o\n",
      "m\n",
      "e\n",
      "the character is at index 0 value will be w\n",
      "the character is at index 1 value will be e\n",
      "the character is at index 2 value will be l\n",
      "the character is at index 3 value will be c\n",
      "the character is at index 4 value will be o\n",
      "the character is at index 5 value will be m\n",
      "the character is at index 6 value will be e\n",
      "the character is at index 7 value will be  \n",
      "the character is at index 8 value will be h\n",
      "the character is at index 9 value will be o\n",
      "the character is at index 10 value will be m\n",
      "the character is at index 11 value will be e\n",
      "0\n",
      "1\n",
      "2\n",
      "3\n",
      "4\n",
      "5\n",
      "6\n",
      "7\n",
      "8\n",
      "9\n",
      "0123456789False\n",
      "True\n",
      "False\n",
      "True\n",
      "False\n",
      "True\n",
      "False\n",
      "True\n",
      "False\n",
      "True\n",
      "False\n",
      "True\n",
      "False\n",
      "True\n",
      "False\n",
      "True\n",
      "False\n",
      "True\n",
      "False\n",
      "True\n",
      "False\n"
     ]
    }
   ],
   "source": [
    "a,b,c= 10,20,30\n",
    "print(a,b,c,sep='.')\n",
    "print(a,b,c,sep=',')\n",
    "\n",
    "print(\"hii\")\n",
    "print(\"hii\",end='')\n",
    "print(\"hii\")\n",
    "\n",
    "\n",
    "txt = \"welcome to the jungle\"\n",
    "\n",
    "x = txt.split()\n",
    "\n",
    "print(x)\n",
    "\n",
    "#print the letter seperately\n",
    "\n",
    "s=\"welcome home\"\n",
    "for x in s:\n",
    "    print(x)\n",
    "\n",
    "\n",
    "s=\"welcome home\"\n",
    "i=0\n",
    "for x in s:\n",
    "    print(\"the character is at index\",i,\"value will be\",x)\n",
    "    i=i+1\n",
    "\n",
    "for x in range(10):\n",
    "    print(x)\n",
    "\n",
    "for x in range(10):\n",
    "    print(x,end='')\n",
    "\n",
    "\n",
    "for x in range(21):\n",
    "    print(x%2!=0)\n",
    "\n"
   ]
  },
  {
   "cell_type": "code",
   "execution_count": 19,
   "id": "terminal-thirty",
   "metadata": {},
   "outputs": [
    {
     "name": "stdout",
     "output_type": "stream",
     "text": [
      "5\n",
      "12\n"
     ]
    }
   ],
   "source": [
    "#find min and max elements in array\n",
    "\n",
    "arr=[1,2,3,4,5]\n",
    "\n",
    "max=arr[0]\n",
    "\n",
    "n=len(arr)\n",
    "for i in range(1,n):\n",
    "    if arr[i]>max:\n",
    "        max=arr[i]\n",
    "print(max)\n",
    "\n",
    "#finding min element\n",
    "\n",
    "arr=[30,56,32,12]\n",
    "\n",
    "min=arr[0]\n",
    "\n",
    "n=len(arr)\n",
    "for i in range(1,n):\n",
    "    if arr[i]<min:\n",
    "        min=arr[i]\n",
    "print(min)"
   ]
  },
  {
   "cell_type": "code",
   "execution_count": null,
   "id": "graphic-grenada",
   "metadata": {},
   "outputs": [],
   "source": []
  }
 ],
 "metadata": {
  "kernelspec": {
   "display_name": "Python 3",
   "language": "python",
   "name": "python3"
  },
  "language_info": {
   "codemirror_mode": {
    "name": "ipython",
    "version": 3
   },
   "file_extension": ".py",
   "mimetype": "text/x-python",
   "name": "python",
   "nbconvert_exporter": "python",
   "pygments_lexer": "ipython3",
   "version": "3.8.5"
  }
 },
 "nbformat": 4,
 "nbformat_minor": 5
}
