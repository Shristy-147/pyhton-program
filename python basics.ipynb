{
 "cells": [
  {
   "cell_type": "code",
   "execution_count": 2,
   "id": "signed-amino",
   "metadata": {},
   "outputs": [
    {
     "name": "stdout",
     "output_type": "stream",
     "text": [
      "Print Hello world\n"
     ]
    }
   ],
   "source": [
    "print(\"Print Hello world\")"
   ]
  },
  {
   "cell_type": "code",
   "execution_count": 4,
   "id": "continental-insight",
   "metadata": {},
   "outputs": [
    {
     "name": "stdout",
     "output_type": "stream",
     "text": [
      "what is your name = shri\n",
      "my name is :- shri\n"
     ]
    }
   ],
   "source": [
    "#To take input from user\n",
    "\n",
    "name=input(\"what is your name = \")\n",
    "print(\"my name is :-\",name)"
   ]
  },
  {
   "cell_type": "code",
   "execution_count": 7,
   "id": "headed-trauma",
   "metadata": {},
   "outputs": [
    {
     "name": "stdout",
     "output_type": "stream",
     "text": [
      "<class 'int'>\n",
      "<class 'str'>\n"
     ]
    }
   ],
   "source": [
    "#To check Type\n",
    "\n",
    "a=45\n",
    "print(type(a))\n",
    "\n",
    "\n",
    "b= \"abc\"\n",
    "print(type(b))"
   ]
  },
  {
   "cell_type": "code",
   "execution_count": 8,
   "id": "determined-borough",
   "metadata": {},
   "outputs": [
    {
     "name": "stdout",
     "output_type": "stream",
     "text": [
      "17\n",
      "22\n",
      "enter the first number:-34\n",
      "enter the second number:-55\n",
      "-21\n",
      "70\n",
      "282475249\n",
      "1.0\n",
      "0\n",
      "7\n"
     ]
    }
   ],
   "source": [
    "#operators are nothing but the symbols which helps us to perform operations\n",
    "\n",
    "#arithmetic operator\n",
    "\n",
    "x=7\n",
    "result = x+10   #addition\n",
    "print(result)\n",
    "\n",
    "x=34\n",
    "y=12        #substraction\n",
    "z=x-y\n",
    "print(z)\n",
    "\n",
    "x= int(input(\"enter the first number:-\"))\n",
    "y= int(input(\"enter the second number:-\"))\n",
    "print(x-y)\n",
    "\n",
    "x=7\n",
    "result = x*10   #multi\n",
    "print(result)\n",
    "\n",
    "x=7\n",
    "result = x**10   #exponent\n",
    "print(result)\n",
    "\n",
    "x=7\n",
    "result = x/7   #div\n",
    "print(result)\n",
    "\n",
    "x=7\n",
    "result = x//14   #floor div\n",
    "print(result)\n",
    "\n",
    "x=7\n",
    "result = x%10   #mod\n",
    "print(result)\n",
    "\n"
   ]
  },
  {
   "cell_type": "code",
   "execution_count": 9,
   "id": "literary-visitor",
   "metadata": {},
   "outputs": [
    {
     "name": "stdout",
     "output_type": "stream",
     "text": [
      "hi siri\n"
     ]
    }
   ],
   "source": [
    "#concatenation\n",
    "\n",
    "s1=\"hi \"\n",
    "s2=\"siri\"\n",
    "print(s1+s2)"
   ]
  },
  {
   "cell_type": "code",
   "execution_count": 10,
   "id": "agreed-comparative",
   "metadata": {},
   "outputs": [
    {
     "name": "stdout",
     "output_type": "stream",
     "text": [
      "4081.5\n",
      "350.7639295\n"
     ]
    }
   ],
   "source": [
    "#problem statement\n",
    "\n",
    "fee=4535\n",
    "discount_percent=10\n",
    "discount_amount=(discount_percent/100)*fee\n",
    "discount_fee = fee-discount_amount\n",
    "print(discount_fee)\n",
    "\n",
    "dis_km = 564.5\n",
    "km = (0.621371)\n",
    "dis_in_miles = (dis_km * km)\n",
    "print(dis_in_miles)"
   ]
  },
  {
   "cell_type": "code",
   "execution_count": 11,
   "id": "guilty-calculation",
   "metadata": {},
   "outputs": [
    {
     "name": "stdout",
     "output_type": "stream",
     "text": [
      "enter number45\n",
      "enter number78\n",
      "123\n",
      "-33\n",
      "3510\n",
      "892433931724899592133340503925107044376202040970794580884598711678709679913526717581436810411421589606106863357126712799072265625\n",
      "0.5769230769230769\n",
      "45\n"
     ]
    }
   ],
   "source": [
    "#addition substraction multiplication division and mod \n",
    "\n",
    "a=int(input(\"enter number\"))\n",
    "b=int(input(\"enter number\"))\n",
    "\n",
    "add=a+b\n",
    "print(add)\n",
    "\n",
    "sub=a-b\n",
    "print(sub)\n",
    "\n",
    "mul=a*b\n",
    "print(mul)\n",
    "\n",
    "sq=a**b\n",
    "print(sq)\n",
    "\n",
    "div=a/b\n",
    "print(div)\n",
    "\n",
    "mod=a%b\n",
    "print(mod)\n"
   ]
  },
  {
   "cell_type": "code",
   "execution_count": 12,
   "id": "secret-resistance",
   "metadata": {},
   "outputs": [
    {
     "name": "stdout",
     "output_type": "stream",
     "text": [
      "108\n"
     ]
    }
   ],
   "source": [
    "#to print the random between the given range\n",
    "\n",
    "import random\n",
    "a=random.randint(100,120)\n",
    "print(a)"
   ]
  },
  {
   "cell_type": "code",
   "execution_count": 13,
   "id": "cardiovascular-criticism",
   "metadata": {},
   "outputs": [
    {
     "name": "stdout",
     "output_type": "stream",
     "text": [
      "enter year2017\n",
      "enter month4\n",
      "     April 2017\n",
      "Mo Tu We Th Fr Sa Su\n",
      "                1  2\n",
      " 3  4  5  6  7  8  9\n",
      "10 11 12 13 14 15 16\n",
      "17 18 19 20 21 22 23\n",
      "24 25 26 27 28 29 30\n",
      "\n"
     ]
    }
   ],
   "source": [
    "#For calendar\n",
    "\n",
    "import calendar\n",
    "\n",
    "y=int(input(\"enter year\"))\n",
    "m=int(input(\"enter month\"))\n",
    "\n",
    "print(calendar.month(y,m))"
   ]
  },
  {
   "cell_type": "code",
   "execution_count": 14,
   "id": "graduate-murder",
   "metadata": {},
   "outputs": [
    {
     "name": "stdout",
     "output_type": "stream",
     "text": [
      "Enter km56\n",
      "56000\n"
     ]
    }
   ],
   "source": [
    "#for conversion km to m\n",
    "\n",
    "#kilometer=1000meter\n",
    "kilom=int(input(\"Enter km\"))\n",
    "conv_fac=1000\n",
    "\n",
    "meter=kilom*conv_fac\n",
    "print(meter)"
   ]
  },
  {
   "cell_type": "code",
   "execution_count": 18,
   "id": "wrapped-platinum",
   "metadata": {},
   "outputs": [
    {
     "name": "stdout",
     "output_type": "stream",
     "text": [
      "<class 'str'>\n",
      "2407757675312\n",
      "2407757673008\n",
      "0b1111\n",
      "0b1001\n",
      "0b10000\n",
      "0o17\n",
      "0xf\n",
      "(30+4.1j)\n",
      "<class 'complex'>\n",
      "30.0\n",
      "4.1\n",
      "<class 'bool'>\n",
      "dii\n",
      "dii\n",
      "hii\n",
      "bro\n"
     ]
    }
   ],
   "source": [
    "#python contain several inbuilt function\n",
    "\n",
    "a=\"sita\"\n",
    "b=\"ram\"\n",
    "\n",
    "print(type(a))\n",
    "\n",
    "print(id(a))\n",
    "print(id(b))\n",
    "\n",
    "\n",
    "#base conversion(converting any base to binary)\n",
    "\n",
    "print(bin(15))\n",
    "print(bin(0o11))\n",
    "print(bin(0X10))\n",
    "\n",
    "print(oct(15))\n",
    "\n",
    "print(hex(15))\n",
    "\n",
    "#Even we can perform operations on complex type values.\n",
    "\n",
    "a=10+1.5j\n",
    "b=20+2.6j\n",
    "c=a+b\n",
    "print(c)\n",
    "print(type(c))\n",
    "\n",
    "print(c.real)\n",
    "print(c.imag)\n",
    "\n",
    "#boolean\n",
    "\n",
    "b=True\n",
    "print(type(b))\n",
    "\n",
    "#string\n",
    "\n",
    "s=\"dii\"\n",
    "s1='dii'\n",
    "\n",
    "s2=\"\"\"hii\n",
    "bro\"\"\"\n",
    "\n",
    "print(s)\n",
    "print(s1)\n",
    "print(s2)\n",
    "\n",
    "\n",
    "\n"
   ]
  },
  {
   "cell_type": "code",
   "execution_count": 19,
   "id": "gorgeous-butler",
   "metadata": {},
   "outputs": [
    {
     "name": "stdout",
     "output_type": "stream",
     "text": [
      "w\n",
      "e\n",
      "el\n",
      "elcome\n",
      "welc\n",
      "welcome\n",
      "7\n",
      "welcomewelcomewelcome\n",
      "welcomewelcomewelcome\n"
     ]
    }
   ],
   "source": [
    "#slicing\n",
    "\n",
    "s=\"welcome\"\n",
    "print(s[0])\n",
    "\n",
    "print(s[-1])\n",
    "print(s[1:3])\n",
    "print(s[1:])\n",
    "print(s[:4])\n",
    "print(s[:])\n",
    "\n",
    "print(len(s))\n",
    "print(s*3)\n",
    "print(3*s)"
   ]
  },
  {
   "cell_type": "code",
   "execution_count": 17,
   "id": "advance-player",
   "metadata": {},
   "outputs": [
    {
     "name": "stdout",
     "output_type": "stream",
     "text": [
      "123\n",
      "1\n",
      "10\n",
      "123.0\n",
      "1.0\n",
      "10.0\n",
      "(123+0j)\n",
      "(1+0j)\n",
      "(10+0j)\n",
      "(2+3j)\n",
      "(1+0j)\n",
      "True\n",
      "True\n",
      "True\n",
      "True\n",
      "10\n",
      "10.6\n",
      "True\n"
     ]
    }
   ],
   "source": [
    "#typecasting\n",
    "\n",
    "print(int(123.56))\n",
    "print(int(True))\n",
    "print(int(\"10\"))\n",
    "\n",
    "\n",
    "print(float(123))\n",
    "print(float(True))\n",
    "print(float(\"10\"))\n",
    "\n",
    "\n",
    "print(complex(123))\n",
    "print(complex(True))\n",
    "print(complex(\"10\"))\n",
    "print(complex(2,3))\n",
    "print(complex(True,False))\n",
    "\n",
    "print(bool(\"10\"))\n",
    "print(bool(1))\n",
    "print(bool(\"true\"))\n",
    "print(bool(\"false\"))\n",
    "\n",
    "print(str(10))\n",
    "print(str(10.6))\n",
    "print(str(True))"
   ]
  },
  {
   "cell_type": "code",
   "execution_count": 20,
   "id": "excess-strength",
   "metadata": {},
   "outputs": [
    {
     "name": "stdout",
     "output_type": "stream",
     "text": [
      "['ram', '10', 'True']\n",
      "ram\n",
      "['ram']\n",
      "100\n",
      "10\n",
      "True\n",
      "[100, '10', 'True', 'shyam']\n",
      "[100, '10', 'palak', 'True', 'shyam']\n",
      "[100, '10', 'palak', 'True', 'shyam', 100, '10', 'palak', 'True', 'shyam']\n",
      "[100, '10', 'palak', 'True', 'shyam', 'ram', 12, 23]\n",
      "['ram', 12, 23]\n"
     ]
    }
   ],
   "source": [
    "#list\n",
    "\n",
    "a=['ram','10','True']\n",
    "print(a)\n",
    "print(a[0])\n",
    "print(a[0:1])\n",
    "\n",
    "a[0]=100\n",
    "for i in a:\n",
    "    print(i)\n",
    "\n",
    "a.append(\"shyam\")\n",
    "print(a)\n",
    "a.insert(2,\"palak\")\n",
    "print(a)\n",
    "\n",
    "print(a*2)\n",
    "b=['ram',12,23]\n",
    "a.extend(b)\n",
    "print(a)\n",
    "print(b)"
   ]
  },
  {
   "cell_type": "code",
   "execution_count": 21,
   "id": "interesting-rwanda",
   "metadata": {},
   "outputs": [
    {
     "name": "stdout",
     "output_type": "stream",
     "text": [
      "(12, 34, 'tina', 34)\n",
      "12\n",
      "(12, 34)\n"
     ]
    }
   ],
   "source": [
    "#tuple\n",
    "\n",
    "t=(12,34,'tina',34)\n",
    "print(t)\n",
    "print(t[0])\n",
    "print(t[0:2])"
   ]
  },
  {
   "cell_type": "code",
   "execution_count": 22,
   "id": "trained-savannah",
   "metadata": {},
   "outputs": [
    {
     "name": "stdout",
     "output_type": "stream",
     "text": [
      "0\n",
      "1\n",
      "2\n",
      "3\n",
      "4\n",
      "5\n",
      "6\n",
      "7\n",
      "8\n",
      "9\n",
      "10\n",
      "11\n",
      "12\n",
      "13\n",
      "14\n",
      "15\n",
      "16\n",
      "17\n",
      "18\n",
      "19\n",
      "10\n",
      "12\n",
      "14\n",
      "16\n",
      "18\n"
     ]
    }
   ],
   "source": [
    "#range\n",
    "\n",
    "r=range(10)\n",
    "for i in r:\n",
    "    print(i)\n",
    "\n",
    "r1=range(10,20)\n",
    "for i in r1:\n",
    "    print(i)\n",
    "\n",
    "r2=range(10,20,2)\n",
    "for i in r2:\n",
    "    print(i)"
   ]
  },
  {
   "cell_type": "code",
   "execution_count": 23,
   "id": "ordinary-tulsa",
   "metadata": {},
   "outputs": [
    {
     "name": "stdout",
     "output_type": "stream",
     "text": [
      "{'durgamaa', 10, 30}\n",
      "{200, 'durgamaa', 10, 30}\n",
      "{200, 'durgamaa', 30}\n",
      "{10: 'done', 11: 'pie'}\n",
      "done\n",
      "{10: 'done', 11: 'pie', 'a': 'long'}\n"
     ]
    }
   ],
   "source": [
    "#set\n",
    "\n",
    "s={10,30,'durgamaa'}\n",
    "print(s)\n",
    "s.add(200)\n",
    "print(s)\n",
    "s.remove(10)\n",
    "print(s)\n",
    "\n",
    "#dictonary\n",
    "\n",
    "d={10:'done',11:'pie'}\n",
    "print(d)\n",
    "print(d[10])\n",
    "d['a']='long'\n",
    "print(d)"
   ]
  },
  {
   "cell_type": "code",
   "execution_count": 24,
   "id": "competent-edition",
   "metadata": {},
   "outputs": [
    {
     "name": "stdout",
     "output_type": "stream",
     "text": [
      "1.2.3.4.5\n",
      "['welcome', 'home']\n"
     ]
    }
   ],
   "source": [
    "#join and split\n",
    "\n",
    "print('.'.join('12345'))\n",
    "s=\"welcome home\"\n",
    "print(s.split())"
   ]
  },
  {
   "cell_type": "code",
   "execution_count": 26,
   "id": "wooden-bulgarian",
   "metadata": {},
   "outputs": [
    {
     "name": "stdout",
     "output_type": "stream",
     "text": [
      "10 20 30\n"
     ]
    }
   ],
   "source": [
    "#seperator\n",
    "a,b,c=10,20,30\n",
    "print(a,b,c,sep=' ')"
   ]
  },
  {
   "cell_type": "code",
   "execution_count": 27,
   "id": "dangerous-petersburg",
   "metadata": {},
   "outputs": [
    {
     "name": "stdout",
     "output_type": "stream",
     "text": [
      "helloworld\n",
      "a value is 10\n",
      "a value is 10 and b value is 30\n"
     ]
    }
   ],
   "source": [
    "#if you want output in the same line\n",
    "print(\"hello\",end='')\n",
    "print(\"world\")\n",
    "\n",
    "\n",
    "#formatted string\n",
    "a=10\n",
    "b=30\n",
    "print(\"a value is %i\"%a)\n",
    "print(\"a value is %i and b value is %i\"%(a,b))"
   ]
  },
  {
   "cell_type": "code",
   "execution_count": 28,
   "id": "ignored-title",
   "metadata": {},
   "outputs": [
    {
     "name": "stdout",
     "output_type": "stream",
     "text": [
      "7.483314773547883\n",
      "3.141592653589793\n",
      "4.898979485566356\n",
      "6.782329983125268\n",
      "33\n",
      "32\n",
      "1171611.4081\n",
      "40320\n"
     ]
    }
   ],
   "source": [
    "#mathematical function\n",
    "\n",
    "import math\n",
    "print(math.sqrt(56))\n",
    "print(math.pi)\n",
    "\n",
    "import math as m\n",
    "print(m.sqrt(24))\n",
    "\n",
    "from math import pi,sqrt\n",
    "print(sqrt(46))\n",
    "\n",
    "x=32.9\n",
    "print(m.ceil(x))\n",
    "print(m.floor(x))\n",
    "print(m.pow(x,4))\n",
    "print(m.factorial(8))"
   ]
  },
  {
   "cell_type": "code",
   "execution_count": null,
   "id": "external-truck",
   "metadata": {},
   "outputs": [],
   "source": []
  }
 ],
 "metadata": {
  "kernelspec": {
   "display_name": "Python 3",
   "language": "python",
   "name": "python3"
  },
  "language_info": {
   "codemirror_mode": {
    "name": "ipython",
    "version": 3
   },
   "file_extension": ".py",
   "mimetype": "text/x-python",
   "name": "python",
   "nbconvert_exporter": "python",
   "pygments_lexer": "ipython3",
   "version": "3.8.5"
  }
 },
 "nbformat": 4,
 "nbformat_minor": 5
}
